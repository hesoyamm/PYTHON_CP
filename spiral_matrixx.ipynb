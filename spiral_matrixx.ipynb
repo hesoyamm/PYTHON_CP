{
 "cells": [
  {
   "cell_type": "code",
   "execution_count": 153,
   "metadata": {},
   "outputs": [
    {
     "data": {
      "text/plain": [
       "4"
      ]
     },
     "execution_count": 153,
     "metadata": {},
     "output_type": "execute_result"
    }
   ],
   "source": [
    "a = [[1,2,3,4],[5,6,7,8],[9,10,11,12],[13,14,15,16]]\n",
    "spiral_mat=[]\n",
    "len(a[0])"
   ]
  },
  {
   "cell_type": "code",
   "execution_count": 154,
   "metadata": {},
   "outputs": [],
   "source": [
    "#two pointer for rows and two pointer for columsn"
   ]
  },
  {
   "cell_type": "code",
   "execution_count": 155,
   "metadata": {},
   "outputs": [],
   "source": [
    "def print_spiral(a):\n",
    "    top =0\n",
    "    down = len(a)-1\n",
    "    left = 0\n",
    "    right = len(a[0])-1\n",
    "#direction pointer 0 ,1,2,3 left to right,top to down,right to left,bottom to top\n",
    "    direction =0\n",
    "    while(top<=down and left<=right):\n",
    "        if(direction==0):\n",
    "            for i in range(left,right):\n",
    "                spiral_mat.append(a[top][i])\n",
    "            top=top+1\n",
    "        elif(direction==1):\n",
    "            for i in range(top,down):\n",
    "                spiral_mat.append(a[i][right])\n",
    "            right= right-1\n",
    "        elif(direction==2):\n",
    "            for i in range(right,left):\n",
    "                spiral_mat.append(a[down][i])\n",
    "            down = down -1\n",
    "        elif(direction==3):\n",
    "            for i in range(down,top):\n",
    "                spiral_mat.append(a[i][left])\n",
    "            left=left+1\n",
    "        direction=(direction+1)%4\n",
    "    return spiral_mat\n",
    "    \n",
    "        "
   ]
  },
  {
   "cell_type": "code",
   "execution_count": 156,
   "metadata": {},
   "outputs": [
    {
     "data": {
      "text/plain": [
       "[1, 2, 3, 8, 12, 6]"
      ]
     },
     "execution_count": 156,
     "metadata": {},
     "output_type": "execute_result"
    }
   ],
   "source": [
    "print_spiral(a)"
   ]
  },
  {
   "cell_type": "code",
   "execution_count": null,
   "metadata": {},
   "outputs": [],
   "source": []
  }
 ],
 "metadata": {
  "kernelspec": {
   "display_name": "Python 3",
   "language": "python",
   "name": "python3"
  }
 },
 "nbformat": 4,
 "nbformat_minor": 4
}
