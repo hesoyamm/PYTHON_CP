{
 "cells": [
  {
   "cell_type": "code",
   "execution_count": 20,
   "metadata": {},
   "outputs": [
    {
     "data": {
      "text/plain": [
       "8"
      ]
     },
     "execution_count": 20,
     "metadata": {},
     "output_type": "execute_result"
    }
   ],
   "source": [
    "#largest sum of contiguous subarrays\n",
    "array = [-2,-3,4,-1,-2,1,5,-3]\n",
    "#p.s. what my logic was correct\n",
    "len(array)\n"
   ]
  },
  {
   "cell_type": "markdown",
   "metadata": {},
   "source": [
    "#lets find the first positive instance\n",
    "for i in range(len(array)):\n",
    "    if(array[i]>0):\n",
    "        postive = i;\n",
    "        break;\n",
    "add = 0\n",
    "prev_add= add\n",
    "j=postive;\n",
    "while(j!=len(array)):\n",
    "    if(array[j+1]<0):\n",
    "        last_postive =i\n",
    "    j=j+1\n",
    "   \n",
    "    \n",
    "    \n",
    "    \n",
    "        "
   ]
  },
  {
   "cell_type": "code",
   "execution_count": 21,
   "metadata": {},
   "outputs": [
    {
     "data": {
      "text/plain": [
       "7"
      ]
     },
     "execution_count": 21,
     "metadata": {},
     "output_type": "execute_result"
    }
   ],
   "source": [
    "def maxSUBarray(a,size):\n",
    "    curr_state=a[0]\n",
    "    new_state=a[0]\n",
    "    for i in range(1,size):\n",
    "        curr_state = max(a[i],curr_state+a[i])\n",
    "        new_state=max(new_state,curr_state)\n",
    "    return new_state\n",
    "maxSUBarray([-2, -3, 4, -1, -2, 1, 5, -3],8)"
   ]
  },
  {
   "cell_type": "code",
   "execution_count": null,
   "metadata": {},
   "outputs": [],
   "source": []
  },
  {
   "cell_type": "code",
   "execution_count": null,
   "metadata": {},
   "outputs": [],
   "source": []
  }
 ],
 "metadata": {
  "kernelspec": {
   "display_name": "Python 3",
   "language": "python",
   "name": "python3"
  },
  "language_info": {
   "codemirror_mode": {
    "name": "ipython",
    "version": 3
   },
   "file_extension": ".py",
   "mimetype": "text/x-python",
   "name": "python",
   "nbconvert_exporter": "python",
   "pygments_lexer": "ipython3",
   "version": "3.8.3"
  }
 },
 "nbformat": 4,
 "nbformat_minor": 4
}
