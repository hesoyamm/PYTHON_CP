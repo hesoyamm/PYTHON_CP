{
 "cells": [
  {
   "cell_type": "code",
   "execution_count": 68,
   "metadata": {},
   "outputs": [],
   "source": [
    "def longetPalindrome(s):\n",
    "    if s[::-1]==s:\n",
    "        #for non python people -> s[in:out:step_size]\n",
    "        return s\n",
    "    #hoe sakta hai pura hi palindrome\n",
    "    res = ''\n",
    "    for i in range(len(s)):\n",
    "        #ek complete left corner se shuru\n",
    "        for j in range(len(s),i,-1):\n",
    "            #ek pura right se\n",
    "            if(len(res) >=j-i):\n",
    "                #searching for longest sub string (high - low)\n",
    "                break\n",
    "            elif(s[i:j]==s[i:j][::-1]):#\n",
    "                res=s[i:j]\n",
    "    return res"
   ]
  },
  {
   "cell_type": "markdown",
   "metadata": {},
   "source": [
    "Input: s = \"babad\"\n",
    "Output: \"bab\"\n",
    "Note: \"aba\" is also a valid answer."
   ]
  },
  {
   "cell_type": "code",
   "execution_count": 70,
   "metadata": {},
   "outputs": [
    {
     "data": {
      "text/plain": [
       "'aba'"
      ]
     },
     "execution_count": 70,
     "metadata": {},
     "output_type": "execute_result"
    }
   ],
   "source": [
    "longetPalindrome('abac')"
   ]
  },
  {
   "cell_type": "code",
   "execution_count": 71,
   "metadata": {},
   "outputs": [],
   "source": [
    "s='ababa'"
   ]
  },
  {
   "cell_type": "code",
   "execution_count": 76,
   "metadata": {},
   "outputs": [
    {
     "data": {
      "text/plain": [
       "'baba'"
      ]
     },
     "execution_count": 76,
     "metadata": {},
     "output_type": "execute_result"
    }
   ],
   "source": [
    "s[0:4][::-1]"
   ]
  },
  {
   "cell_type": "code",
   "execution_count": 81,
   "metadata": {},
   "outputs": [],
   "source": [
    "##Some one eslees soultion\n",
    "def longestPalindrome():\n",
    "        p = ''\n",
    "        for i in range(len(s)):\n",
    "            p1 = self.get_palindrome(s, i, i+1)\n",
    "            p2 = self.get_palindrome(s, i, i)\n",
    "            p = max([p, p1, p2], key=lambda x: len(x))\n",
    "        return p\n",
    "    \n",
    "def get_palindrome():\n",
    "        while l >= 0 and r < len(s) and s[l] == s[r]:\n",
    "            l -= 1\n",
    "            r += 1\n",
    "        return s[l+1:r]\n",
    "###recursive solution"
   ]
  },
  {
   "cell_type": "code",
   "execution_count": null,
   "metadata": {},
   "outputs": [],
   "source": []
  }
 ],
 "metadata": {
  "kernelspec": {
   "display_name": "Python 3",
   "language": "python",
   "name": "python3"
  },
  "language_info": {
   "codemirror_mode": {
    "name": "ipython",
    "version": 3
   },
   "file_extension": ".py",
   "mimetype": "text/x-python",
   "name": "python",
   "nbconvert_exporter": "python",
   "pygments_lexer": "ipython3",
   "version": "3.8.3"
  }
 },
 "nbformat": 4,
 "nbformat_minor": 4
}
