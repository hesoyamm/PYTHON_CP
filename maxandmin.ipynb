{
 "cells": [
  {
   "cell_type": "code",
   "execution_count": 2,
   "metadata": {},
   "outputs": [
    {
     "name": "stdout",
     "output_type": "stream",
     "text": [
      "23\n",
      "344\n"
     ]
    }
   ],
   "source": [
    "#finding min and max\n",
    "array = [23,23,24,334,34,34,344]\n",
    "low=array[0]\n",
    "for i in range(len(array)):\n",
    "    low=min(low,array[i])\n",
    "print(low)\n",
    "high = array[0]\n",
    "for i in range(len(array)):\n",
    "    high=max(high,array[i])\n",
    "print(high)\n",
    "\n",
    "    "
   ]
  },
  {
   "cell_type": "code",
   "execution_count": null,
   "metadata": {},
   "outputs": [],
   "source": []
  }
 ],
 "metadata": {
  "kernelspec": {
   "display_name": "Python 3",
   "language": "python",
   "name": "python3"
  },
  "language_info": {
   "codemirror_mode": {
    "name": "ipython",
    "version": 3
   },
   "file_extension": ".py",
   "mimetype": "text/x-python",
   "name": "python",
   "nbconvert_exporter": "python",
   "pygments_lexer": "ipython3",
   "version": "3.8.3"
  }
 },
 "nbformat": 4,
 "nbformat_minor": 4
}
