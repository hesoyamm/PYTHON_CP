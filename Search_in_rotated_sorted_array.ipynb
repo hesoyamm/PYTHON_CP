{
 "cells": [
  {
   "cell_type": "code",
   "execution_count": 35,
   "metadata": {},
   "outputs": [],
   "source": [
    "def search(nums,target):\n",
    "    left= 0\n",
    "    right = len(nums)-1\n",
    "    while(left<=right):\n",
    "        mid=(left+right)>>1\n",
    "        if(nums[mid]==target):return mid\n",
    "        if(nums[mid]<nums[right]):\n",
    "            if(nums[mid]<target<=nums[right]):\n",
    "                left=mid+1\n",
    "            else:\n",
    "                right = mid-1\n",
    "        else:\n",
    "            if(nums[left]<=target>nums[mid]):\n",
    "                right =mid-1\n",
    "            else:\n",
    "                left=mid+1\n",
    "    return -1\n",
    "\n",
    "                \n",
    "                "
   ]
  },
  {
   "cell_type": "code",
   "execution_count": 36,
   "metadata": {},
   "outputs": [
    {
     "data": {
      "text/plain": [
       "4"
      ]
     },
     "execution_count": 36,
     "metadata": {},
     "output_type": "execute_result"
    }
   ],
   "source": [
    "search([4,5,6,7,0,1,2],0)"
   ]
  },
  {
   "cell_type": "code",
   "execution_count": null,
   "metadata": {},
   "outputs": [],
   "source": []
  }
 ],
 "metadata": {
  "kernelspec": {
   "display_name": "Python 3",
   "language": "python",
   "name": "python3"
  },
  "language_info": {
   "codemirror_mode": {
    "name": "ipython",
    "version": 3
   },
   "file_extension": ".py",
   "mimetype": "text/x-python",
   "name": "python",
   "nbconvert_exporter": "python",
   "pygments_lexer": "ipython3",
   "version": "3.8.3"
  }
 },
 "nbformat": 4,
 "nbformat_minor": 4
}
